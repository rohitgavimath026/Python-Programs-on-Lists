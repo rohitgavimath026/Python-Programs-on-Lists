{
  "nbformat": 4,
  "nbformat_minor": 0,
  "metadata": {
    "colab": {
      "name": "Python Programs on Lists.ipynb",
      "provenance": [],
      "collapsed_sections": []
    },
    "kernelspec": {
      "name": "python3",
      "display_name": "Python 3"
    },
    "language_info": {
      "name": "python"
    }
  },
  "cells": [
    {
      "cell_type": "markdown",
      "metadata": {
        "id": "RpZFuCMcDa4U"
      },
      "source": [
        "# **1. Checking whether the element exists in list or not**"
      ]
    },
    {
      "cell_type": "code",
      "metadata": {
        "colab": {
          "base_uri": "https://localhost:8080/"
        },
        "id": "j9EFgyw4DaR0",
        "outputId": "ebe05541-84b8-4b6a-96d2-9cfb363f0475"
      },
      "source": [
        "lst = [1,6,5,3,7,4]\n",
        "n = int(input(\"Enter no. : \"))\n",
        "if n in lst:\n",
        "  print(\"YES\")\n",
        "else:\n",
        "  print(\"NO\")"
      ],
      "execution_count": null,
      "outputs": [
        {
          "output_type": "stream",
          "name": "stdout",
          "text": [
            "Enter no. : 6\n",
            "YES\n"
          ]
        }
      ]
    },
    {
      "cell_type": "markdown",
      "metadata": {
        "id": "oyQYWuiwH2A3"
      },
      "source": [
        "# **2. Interchanging of elements in a list**"
      ]
    },
    {
      "cell_type": "code",
      "metadata": {
        "colab": {
          "base_uri": "https://localhost:8080/"
        },
        "id": "tFYWdpNIH1QH",
        "outputId": "44ec5a68-d9b5-49c5-a367-ae18ba21bc4c"
      },
      "source": [
        "# Method 1:- Finfd the length of list & swap 1st & last element\n",
        "\n",
        "temp = 0\n",
        "def swapList(lst):\n",
        "  temp = lst[0]\n",
        "  lst[0] = lst[-1]\n",
        "  lst[-1] = temp\n",
        "  return lst\n",
        "lst = [12,19,35,56,24]\n",
        "print(swapList(lst))"
      ],
      "execution_count": null,
      "outputs": [
        {
          "output_type": "stream",
          "name": "stdout",
          "text": [
            "[24, 19, 35, 56, 12]\n"
          ]
        }
      ]
    },
    {
      "cell_type": "code",
      "metadata": {
        "colab": {
          "base_uri": "https://localhost:8080/"
        },
        "id": "0MrLE_FuJrXp",
        "outputId": "65ce29b4-6f9d-4115-f046-eb6267b6326d"
      },
      "source": [
        "# Method 2:-\n",
        "def swapList(lst):\n",
        "  lst[0],lst[-1] = lst[-1],lst[0]\n",
        "  return lst\n",
        "lst = [12,19,35,56,24]\n",
        "print(swapList(lst))"
      ],
      "execution_count": null,
      "outputs": [
        {
          "output_type": "stream",
          "name": "stdout",
          "text": [
            "[24, 19, 35, 56, 12]\n"
          ]
        }
      ]
    },
    {
      "cell_type": "markdown",
      "metadata": {
        "id": "avumrBlWKOu0"
      },
      "source": [
        "# **3. Multiplication of elements of a list**"
      ]
    },
    {
      "cell_type": "code",
      "metadata": {
        "colab": {
          "base_uri": "https://localhost:8080/"
        },
        "id": "ajMgc2YUKNzw",
        "outputId": "d7f0759c-982b-46d0-b152-63e473dac0fe"
      },
      "source": [
        "def Multiplication(lst):\n",
        "  res = 1\n",
        "  for i in lst:\n",
        "    res *= i\n",
        "  return res\n",
        "lst = [1,2,3,4,5]\n",
        "print(\"Product :\",Multiplication(lst))"
      ],
      "execution_count": null,
      "outputs": [
        {
          "output_type": "stream",
          "name": "stdout",
          "text": [
            "Product : 120\n"
          ]
        }
      ]
    },
    {
      "cell_type": "markdown",
      "metadata": {
        "id": "i5OMeHwNNGk7"
      },
      "source": [
        "# **4. Reversing a list**"
      ]
    },
    {
      "cell_type": "code",
      "metadata": {
        "colab": {
          "base_uri": "https://localhost:8080/"
        },
        "id": "QYgScprSLyNh",
        "outputId": "7c4f5566-2957-4c34-f42e-aebca54e983d"
      },
      "source": [
        "# Method 1:- \n",
        "\n",
        "def Reverse(lst):\n",
        "  res = lst[::-1]\n",
        "  return res\n",
        "lst = [10,11,12,13,14,15]\n",
        "print(Reverse(lst))"
      ],
      "execution_count": null,
      "outputs": [
        {
          "output_type": "stream",
          "name": "stdout",
          "text": [
            "[15, 14, 13, 12, 11, 10]\n"
          ]
        }
      ]
    },
    {
      "cell_type": "code",
      "metadata": {
        "colab": {
          "base_uri": "https://localhost:8080/"
        },
        "id": "G9v4gxtONxHw",
        "outputId": "904fd16f-fe8a-4ec0-fcc9-720f2cd49bf9"
      },
      "source": [
        "# MEthod 2:- Using reverse() fn.\n",
        "\n",
        "def Reverse(lst):\n",
        "  lst.reverse()\n",
        "  return lst\n",
        "lst = [10,11,12,13,14,15]\n",
        "print(Reverse(lst))"
      ],
      "execution_count": null,
      "outputs": [
        {
          "output_type": "stream",
          "name": "stdout",
          "text": [
            "[15, 14, 13, 12, 11, 10]\n"
          ]
        }
      ]
    },
    {
      "cell_type": "code",
      "metadata": {
        "colab": {
          "base_uri": "https://localhost:8080/"
        },
        "id": "EWMM1GCkOHiC",
        "outputId": "7885c3a2-8dff-4f3a-d1b6-520ccb3c05c9"
      },
      "source": [
        "# Method 3:- Using reversed() fn.\n",
        "\n",
        "def Reverse(lst):\n",
        "  return [le for ele in reversed(lst)]\n",
        "lst = [10,11,12,13,14,15]\n",
        "print(Reverse(lst))\n"
      ],
      "execution_count": null,
      "outputs": [
        {
          "output_type": "stream",
          "name": "stdout",
          "text": [
            "[15, 14, 13, 12, 11, 10]\n"
          ]
        }
      ]
    },
    {
      "cell_type": "markdown",
      "metadata": {
        "id": "PWLxmSSDPh1N"
      },
      "source": [
        "# **5. Sum of elements in a list**"
      ]
    },
    {
      "cell_type": "code",
      "metadata": {
        "colab": {
          "base_uri": "https://localhost:8080/"
        },
        "id": "oylM12GyPhLs",
        "outputId": "cfc27869-7b17-4067-f69d-3110fd7f40af"
      },
      "source": [
        "# Method 1:-Using for loop\n",
        "\n",
        "lst = [1,2,3,4,5,6,7,8,9,10]\n",
        "sum = 0\n",
        "for i in lst:\n",
        "  sum += i\n",
        "print(\"SUM :\",sum)"
      ],
      "execution_count": null,
      "outputs": [
        {
          "output_type": "stream",
          "name": "stdout",
          "text": [
            "SUM : 55\n"
          ]
        }
      ]
    },
    {
      "cell_type": "code",
      "metadata": {
        "colab": {
          "base_uri": "https://localhost:8080/"
        },
        "id": "btwTtLrmQd--",
        "outputId": "27fd7b26-886a-4cc6-e083-94927d987879"
      },
      "source": [
        "# Method 2:-Using while loop\n",
        "\n",
        "lst = [1,2,3,4,5,6,7,8,9,10]\n",
        "sum = 0\n",
        "i = 0\n",
        "while i<len(lst):\n",
        "  sum += lst[i]\n",
        "  i += 1\n",
        "print(\"SUM :\",sum)"
      ],
      "execution_count": null,
      "outputs": [
        {
          "output_type": "stream",
          "name": "stdout",
          "text": [
            "SUM : 55\n"
          ]
        }
      ]
    },
    {
      "cell_type": "markdown",
      "metadata": {
        "id": "XPmk28gv6IlJ"
      },
      "source": [
        "# **6.Swap two elements in a List**"
      ]
    },
    {
      "cell_type": "markdown",
      "metadata": {
        "id": "hzVjlpjJ7Ukv"
      },
      "source": [
        ""
      ]
    },
    {
      "cell_type": "code",
      "metadata": {
        "id": "fB3Rha2kQ4ts",
        "colab": {
          "base_uri": "https://localhost:8080/"
        },
        "outputId": "3c71a0b7-578c-4d5d-f9ee-e64f50c69836"
      },
      "source": [
        "def SwapList(lst,pos1,pos2):\n",
        "  lst[pos1],lst[pos2] = lst[pos2],lst[pos1]\n",
        "  return lst\n",
        "lst = [23,65,19,90,69]\n",
        "pos1,pos2 = 1,3\n",
        "print(SwapList(lst,pos1,pos2))"
      ],
      "execution_count": null,
      "outputs": [
        {
          "output_type": "stream",
          "name": "stdout",
          "text": [
            "[23, 90, 19, 65, 69]\n"
          ]
        }
      ]
    },
    {
      "cell_type": "markdown",
      "metadata": {
        "id": "AsbfgaSD99YY"
      },
      "source": [
        "# **7. To clear a List**"
      ]
    },
    {
      "cell_type": "code",
      "metadata": {
        "colab": {
          "base_uri": "https://localhost:8080/"
        },
        "id": "IVA7kMKp7TvB",
        "outputId": "d638367a-0271-4d93-ba8f-6996764ecf03"
      },
      "source": [
        "# Method 1:-Using clear()\n",
        "\n",
        "lst = [6,0,4,2,7]\n",
        "print(\"List Before :\",lst)\n",
        "lst.clear()\n",
        "print(\"List After :\",lst)"
      ],
      "execution_count": null,
      "outputs": [
        {
          "output_type": "stream",
          "name": "stdout",
          "text": [
            "List Before : [6, 0, 4, 2, 7]\n",
            "List After : []\n"
          ]
        }
      ]
    },
    {
      "cell_type": "code",
      "metadata": {
        "colab": {
          "base_uri": "https://localhost:8080/"
        },
        "id": "d3Xes7-7-f75",
        "outputId": "dfce5735-2ba3-4bc5-f861-44e52e970116"
      },
      "source": [
        "# Method 2:-Using '*=0' operator\n",
        "\n",
        "lst = [6,0,4,2,7]\n",
        "print(\"List Before :\",lst)\n",
        "lst *= 0\n",
        "print(\"List After :\",lst)"
      ],
      "execution_count": null,
      "outputs": [
        {
          "output_type": "stream",
          "name": "stdout",
          "text": [
            "List Before : [6, 0, 4, 2, 7]\n",
            "List After : []\n"
          ]
        }
      ]
    },
    {
      "cell_type": "code",
      "metadata": {
        "colab": {
          "base_uri": "https://localhost:8080/"
        },
        "id": "uVkT9ZFR-w2_",
        "outputId": "b17b652a-618c-43d6-d267-7d552dec5aad"
      },
      "source": [
        " # Method 3:-Using 'del'\n",
        "\n",
        "lst = [6,0,4,2,7]\n",
        "print(\"List Before :\",lst)\n",
        "del lst[:]   \n",
        "print(\"List After :\",lst)"
      ],
      "execution_count": null,
      "outputs": [
        {
          "output_type": "stream",
          "name": "stdout",
          "text": [
            "List Before : [6, 0, 4, 2, 7]\n",
            "List After : []\n"
          ]
        }
      ]
    },
    {
      "cell_type": "markdown",
      "metadata": {
        "id": "rQTRROOl_Mkw"
      },
      "source": [
        "# **8. Reversing a List**"
      ]
    },
    {
      "cell_type": "code",
      "metadata": {
        "colab": {
          "base_uri": "https://localhost:8080/"
        },
        "id": "wTmR_nQp_L4Q",
        "outputId": "9a4e2599-15e4-49ad-d816-2e7ac213acbe"
      },
      "source": [
        "# Method 1:-Using slicing technique\n",
        "\n",
        "def Reverse(lst):\n",
        "  new_List = lst[::-1]\n",
        "  return new_List\n",
        "lst = [10,11,12,13,14,15]\n",
        "print(Reverse(lst))"
      ],
      "execution_count": null,
      "outputs": [
        {
          "output_type": "stream",
          "name": "stdout",
          "text": [
            "[15, 14, 13, 12, 11, 10]\n"
          ]
        }
      ]
    },
    {
      "cell_type": "code",
      "metadata": {
        "colab": {
          "base_uri": "https://localhost:8080/"
        },
        "id": "O7bP0gJ6_yCB",
        "outputId": "6484cddd-62bd-42b1-f98c-cee89e663651"
      },
      "source": [
        "# Method 2:-Using reverse() fn.\n",
        "\n",
        "def Reverse(lst):\n",
        "  lst.reverse()\n",
        "  return lst\n",
        "lst = [10,11,12,13,14,15]\n",
        "print(Reverse(lst))"
      ],
      "execution_count": null,
      "outputs": [
        {
          "output_type": "stream",
          "name": "stdout",
          "text": [
            "[15, 14, 13, 12, 11, 10]\n"
          ]
        }
      ]
    },
    {
      "cell_type": "code",
      "metadata": {
        "colab": {
          "base_uri": "https://localhost:8080/"
        },
        "id": "l9xmboYIAQlY",
        "outputId": "473af638-9806-4221-a3fd-ee622972ceef"
      },
      "source": [
        "# Method 3:-Using reversed() fn.\n",
        "\n",
        "def Reverse(lst):\n",
        "  return [ele for ele in reversed(lst)]\n",
        "lst = [10,11,12,13,14,15]\n",
        "print(Reverse(lst))"
      ],
      "execution_count": null,
      "outputs": [
        {
          "output_type": "stream",
          "name": "stdout",
          "text": [
            "[15, 14, 13, 12, 11, 10]\n"
          ]
        }
      ]
    },
    {
      "cell_type": "markdown",
      "metadata": {
        "id": "BNlApisoBE9Q"
      },
      "source": [
        "# **9. To find smallest no. in a List**"
      ]
    },
    {
      "cell_type": "code",
      "metadata": {
        "colab": {
          "base_uri": "https://localhost:8080/"
        },
        "id": "jmM93U6PBD-g",
        "outputId": "545fc568-e3a0-4e02-8db5-80e5685d8904"
      },
      "source": [
        "# Method 1:-Using min() fn.\n",
        "\n",
        "lst = [10,20,29,11,100]\n",
        "print(lst)\n",
        "print(\"SMALLEST :\",min(lst))"
      ],
      "execution_count": null,
      "outputs": [
        {
          "output_type": "stream",
          "name": "stdout",
          "text": [
            "[10, 20, 29, 11, 100]\n",
            "SMALLEST : 10\n"
          ]
        }
      ]
    },
    {
      "cell_type": "code",
      "metadata": {
        "colab": {
          "base_uri": "https://localhost:8080/"
        },
        "id": "VcEhfoqIBYtH",
        "outputId": "08d32524-accd-4ee6-8f36-ccac3bef71ad"
      },
      "source": [
        "# Method 2:-Using sort() fn.\n",
        "\n",
        "lst = [10,20,29,11,100]\n",
        "print(lst)\n",
        "lst.sort()\n",
        "print(\"SMALLEST :\",lst[0])"
      ],
      "execution_count": null,
      "outputs": [
        {
          "output_type": "stream",
          "name": "stdout",
          "text": [
            "[10, 20, 29, 11, 100]\n",
            "SMALLEST : 10\n"
          ]
        }
      ]
    },
    {
      "cell_type": "code",
      "metadata": {
        "colab": {
          "base_uri": "https://localhost:8080/"
        },
        "id": "hdKV6EvxBqFI",
        "outputId": "1335e82b-f937-4d4e-cd97-30ea226f3045"
      },
      "source": [
        "# Method 3:-\n",
        "\n",
        "lst = [20,29,10,11,100]\n",
        "print(lst)\n",
        "Min = lst[0]\n",
        "for i in range(len(lst)):\n",
        "  if lst[i] < Min:\n",
        "    Min = lst[i]\n",
        "print(\"SMALLEST :\",Min)"
      ],
      "execution_count": null,
      "outputs": [
        {
          "output_type": "stream",
          "name": "stdout",
          "text": [
            "[20, 29, 10, 11, 100]\n",
            "SMALLEST : 10\n"
          ]
        }
      ]
    },
    {
      "cell_type": "markdown",
      "metadata": {
        "id": "D__I-gIFBZgG"
      },
      "source": [
        "# **10. To find Largest no. in a list**"
      ]
    },
    {
      "cell_type": "code",
      "metadata": {
        "colab": {
          "base_uri": "https://localhost:8080/"
        },
        "id": "sqLVs88uI28X",
        "outputId": "6574dc93-9a3f-4dbe-c45f-d876529fc1a0"
      },
      "source": [
        "# Method 1:-Using max() fn.\n",
        "\n",
        "lst = [10,20,100,29,11]\n",
        "print(lst)\n",
        "print(\"LARGEST :\",max(lst))"
      ],
      "execution_count": null,
      "outputs": [
        {
          "output_type": "stream",
          "name": "stdout",
          "text": [
            "[10, 20, 100, 29, 11]\n",
            "LARGEST : 100\n"
          ]
        }
      ]
    },
    {
      "cell_type": "code",
      "metadata": {
        "colab": {
          "base_uri": "https://localhost:8080/"
        },
        "id": "dJjmrUAdJRZ0",
        "outputId": "6b0d9764-55df-4b4b-a56b-e8b9bdcedbe4"
      },
      "source": [
        "# Method 2:-Using sort() fn.\n",
        "\n",
        "lst = [10,20,100,29,11]\n",
        "print(lst)\n",
        "lst.sort()\n",
        "print(\"LARGEST :\",lst[-1])"
      ],
      "execution_count": null,
      "outputs": [
        {
          "output_type": "stream",
          "name": "stdout",
          "text": [
            "[10, 20, 100, 29, 11]\n",
            "LARGEST : 100\n"
          ]
        }
      ]
    },
    {
      "cell_type": "code",
      "metadata": {
        "colab": {
          "base_uri": "https://localhost:8080/"
        },
        "id": "jXYRa6dsJo_c",
        "outputId": "4030825a-fb37-44ee-f9a5-aacc32a40a79"
      },
      "source": [
        "lst = [10,20,100,29,11]\n",
        "print(lst)\n",
        "Max = lst[0]\n",
        "for i in range(len(lst)):\n",
        "  if lst[i] > Max:\n",
        "    Max = lst[i]\n",
        "print(\"LARGEST :\",Max)"
      ],
      "execution_count": null,
      "outputs": [
        {
          "output_type": "stream",
          "name": "stdout",
          "text": [
            "[10, 20, 100, 29, 11]\n",
            "LARGEST : 100\n"
          ]
        }
      ]
    },
    {
      "cell_type": "markdown",
      "metadata": {
        "id": "Cma0s498LrVL"
      },
      "source": [
        "# **11. To find 2nd largest no. in a list**"
      ]
    },
    {
      "cell_type": "code",
      "metadata": {
        "colab": {
          "base_uri": "https://localhost:8080/"
        },
        "id": "xNwp30ENLqVV",
        "outputId": "b034f7a6-6360-4d7a-df3e-0731132e9b98"
      },
      "source": [
        "# Method 1:-\n",
        "\n",
        "lst = [10,20,4,45,99]\n",
        "print(lst)\n",
        "lst.sort()\n",
        "print(\"SECOND LARGEST :\",lst[-2])"
      ],
      "execution_count": null,
      "outputs": [
        {
          "output_type": "stream",
          "name": "stdout",
          "text": [
            "[10, 20, 4, 45, 99]\n",
            "SECOND LARGEST : 45\n"
          ]
        }
      ]
    },
    {
      "cell_type": "code",
      "metadata": {
        "colab": {
          "base_uri": "https://localhost:8080/"
        },
        "id": "BWE5Xo8zMJ3k",
        "outputId": "f4d6abef-153e-4929-d970-7da19c8e1768"
      },
      "source": [
        "# Method 2:-Remove the max element from lst using remove() and print the next max element from list\n",
        "\n",
        "lst = [10,20,4,45,99]\n",
        "print(lst)\n",
        "lst.remove(max(lst))\n",
        "print(\"SECOND LARGEST :\",max(lst))"
      ],
      "execution_count": null,
      "outputs": [
        {
          "output_type": "stream",
          "name": "stdout",
          "text": [
            "[10, 20, 4, 45, 99]\n",
            "SECOND LARGEST : 45\n"
          ]
        }
      ]
    },
    {
      "cell_type": "markdown",
      "metadata": {
        "id": "wSRF6IFMM3fb"
      },
      "source": [
        "# **12. To print even no.s from a list**"
      ]
    },
    {
      "cell_type": "code",
      "metadata": {
        "colab": {
          "base_uri": "https://localhost:8080/"
        },
        "id": "xIIFLvRzM1m8",
        "outputId": "54d5942a-2dfb-4905-d9f7-9bcee801fa2f"
      },
      "source": [
        "lst = [10,21,4,45,66,93]\n",
        "print(lst)\n",
        "for num in lst:\n",
        "  if num%2 == 0:\n",
        "    print(num,end=\" \")"
      ],
      "execution_count": null,
      "outputs": [
        {
          "output_type": "stream",
          "name": "stdout",
          "text": [
            "[10, 21, 4, 45, 66, 93]\n",
            "10 4 66 "
          ]
        }
      ]
    },
    {
      "cell_type": "markdown",
      "metadata": {
        "id": "9IeXYH55Nvie"
      },
      "source": [
        "# **13. To print odd no.s from a list**"
      ]
    },
    {
      "cell_type": "code",
      "metadata": {
        "colab": {
          "base_uri": "https://localhost:8080/"
        },
        "id": "IpHO_iigNteR",
        "outputId": "7c26021b-b939-460c-a7a4-2886f4ea71c8"
      },
      "source": [
        "lst = [10,21,4,45,66,93]\n",
        "print(lst)\n",
        "for num in lst:\n",
        "  if num%2 != 0:\n",
        "    print(num,end=\" \")"
      ],
      "execution_count": null,
      "outputs": [
        {
          "output_type": "stream",
          "name": "stdout",
          "text": [
            "[10, 21, 4, 45, 66, 93]\n",
            "21 45 93 "
          ]
        }
      ]
    },
    {
      "cell_type": "markdown",
      "metadata": {
        "id": "zhw86CfTOAlL"
      },
      "source": [
        "# **14. To find N largest no. elements in a list**"
      ]
    },
    {
      "cell_type": "code",
      "metadata": {
        "id": "AbtB9lKnN_9I",
        "colab": {
          "base_uri": "https://localhost:8080/"
        },
        "outputId": "1bebbcd0-4fef-41d9-90f8-f963e89a3481"
      },
      "source": [
        "lst = [1000,298,3579,100,200,-45,900]\n",
        "n = int(input(\"Enter no. of largest elements you want from list : \"))\n",
        "lst.sort()\n",
        "print(lst[-n:])"
      ],
      "execution_count": null,
      "outputs": [
        {
          "output_type": "stream",
          "name": "stdout",
          "text": [
            "Enter no. of largest elements you want from list : 3\n",
            "[900, 1000, 3579]\n"
          ]
        }
      ]
    },
    {
      "cell_type": "markdown",
      "metadata": {
        "id": "U9niy4BVEbDr"
      },
      "source": [
        "# **15. To print all negative no.s from a list**"
      ]
    },
    {
      "cell_type": "code",
      "metadata": {
        "colab": {
          "base_uri": "https://localhost:8080/"
        },
        "id": "N_qq66YDEaPF",
        "outputId": "5a004367-8ebc-4124-c3fd-40c52c397eac"
      },
      "source": [
        "# Method 1:-Using for loop\n",
        "\n",
        "lst = [11,-21,0,45,66,-93]\n",
        "for i in lst:\n",
        "  if i < 0:\n",
        "    print(i,end=' ')"
      ],
      "execution_count": null,
      "outputs": [
        {
          "output_type": "stream",
          "name": "stdout",
          "text": [
            "-21 -93 "
          ]
        }
      ]
    },
    {
      "cell_type": "code",
      "metadata": {
        "id": "h6vJ7-hJGDgt"
      },
      "source": [
        "# Method 2:-Using 'while' loop\n",
        "\n",
        "lst = [11,-21,0,45,66,-93]\n",
        "i = 0\n",
        "while i<len(lst):\n",
        "  if lst[i] < 0:\n",
        "    print(lst[i],end=' ')\n",
        "    i += 1"
      ],
      "execution_count": null,
      "outputs": []
    },
    {
      "cell_type": "markdown",
      "metadata": {
        "id": "9zudzYcxHVJ0"
      },
      "source": [
        "# **16. To print all positive no.s from a list**"
      ]
    },
    {
      "cell_type": "code",
      "metadata": {
        "colab": {
          "base_uri": "https://localhost:8080/"
        },
        "id": "1oDZaKKaHSNT",
        "outputId": "35c932d9-0738-41eb-86c9-d0cdac1e76c1"
      },
      "source": [
        "# Method 1:-Using for loop\n",
        "\n",
        "lst = [11,-21,0,45,66,-93]\n",
        "for i in lst:\n",
        "  if i >= 0:\n",
        "    print(i,end=' ')"
      ],
      "execution_count": null,
      "outputs": [
        {
          "output_type": "stream",
          "name": "stdout",
          "text": [
            "11 0 45 66 "
          ]
        }
      ]
    },
    {
      "cell_type": "code",
      "metadata": {
        "id": "U_9EkLj7HpY9"
      },
      "source": [
        "# Method 2:-Using 'while' loop\n",
        "\n",
        "lst = [11,-21,0,45,66,-93]\n",
        "i = 0\n",
        "while i<len(lst):\n",
        "  if lst[i] >= 0:\n",
        "    print(lst[i],end=' ')\n",
        "    i += 1"
      ],
      "execution_count": null,
      "outputs": []
    },
    {
      "cell_type": "markdown",
      "metadata": {
        "id": "YBvIQcLmIZqu"
      },
      "source": [
        "# **17. To remove the elements from a list**"
      ]
    },
    {
      "cell_type": "code",
      "metadata": {
        "colab": {
          "base_uri": "https://localhost:8080/"
        },
        "id": "zFRzW_nmIYnr",
        "outputId": "5ec37a4d-6f23-4831-a1c8-092709474ffb"
      },
      "source": [
        "# Lets say we want to remove all even no.s\n",
        "\n",
        "lst = [11,5,17,18,23,50,45,20,69]\n",
        "print(\"Before Removing :\",lst)\n",
        "for num in lst:\n",
        "  if num % 2 == 0:\n",
        "    lst.remove(num)\n",
        "print(\"After Removing :\",lst)"
      ],
      "execution_count": null,
      "outputs": [
        {
          "output_type": "stream",
          "name": "stdout",
          "text": [
            "Before Removing : [11, 5, 17, 18, 23, 50, 45, 20, 69]\n",
            "After Removing : [11, 5, 17, 23, 45, 69]\n"
          ]
        }
      ]
    },
    {
      "cell_type": "code",
      "metadata": {
        "colab": {
          "base_uri": "https://localhost:8080/"
        },
        "id": "PVvzORZYJgHt",
        "outputId": "e52cd15f-7fa4-4b86-fae3-a50f710aa584"
      },
      "source": [
        "# Using slicing technique\n",
        "\n",
        "lst = [11,5,17,18,23,50,45,20,69]\n",
        "print(\"Before Removing :\",lst)\n",
        "del lst[2:7]\n",
        "print(\"After Removing :\",lst)"
      ],
      "execution_count": null,
      "outputs": [
        {
          "output_type": "stream",
          "name": "stdout",
          "text": [
            "Before Removing : [11, 5, 17, 18, 23, 50, 45, 20, 69]\n",
            "After Removing : [11, 5, 20, 69]\n"
          ]
        }
      ]
    },
    {
      "cell_type": "markdown",
      "metadata": {
        "id": "QPQjvkDMJx77"
      },
      "source": [
        "# **18. To remove empty list from a list**"
      ]
    },
    {
      "cell_type": "code",
      "metadata": {
        "colab": {
          "base_uri": "https://localhost:8080/"
        },
        "id": "z0f1UIskJxYs",
        "outputId": "012d0fdf-f2fd-40b8-f806-bc23f3590298"
      },
      "source": [
        "# Method 1:-\n",
        "\n",
        "lst = [6,5,[],3,[],[],9]\n",
        "print(\"Before :\",lst)\n",
        "res = [ele for ele in lst if ele!=[]]\n",
        "print(\"After :\",res)"
      ],
      "execution_count": null,
      "outputs": [
        {
          "output_type": "stream",
          "name": "stdout",
          "text": [
            "Before : [6, 5, [], 3, [], [], 9]\n",
            "After : [6, 5, 3, 9]\n"
          ]
        }
      ]
    },
    {
      "cell_type": "code",
      "metadata": {
        "colab": {
          "base_uri": "https://localhost:8080/"
        },
        "id": "1ONWosVJK8W-",
        "outputId": "e1398bbf-c093-4fd2-b317-1d18512b5c37"
      },
      "source": [
        "# Method 2:-Using filter() i.e., we filter the None values from a list \n",
        "\n",
        "lst = [6,5,[],3,[],[],9]\n",
        "print(\"Before :\",lst)\n",
        "res = list(filter(None,lst))\n",
        "print(\"After :\",res)"
      ],
      "execution_count": null,
      "outputs": [
        {
          "output_type": "stream",
          "name": "stdout",
          "text": [
            "Before : [6, 5, [], 3, [], [], 9]\n",
            "After : [6, 5, 3, 9]\n"
          ]
        }
      ]
    },
    {
      "cell_type": "markdown",
      "metadata": {
        "id": "7cgjzUSLMXmz"
      },
      "source": [
        "# **19. Cloning or Copying a list**"
      ]
    },
    {
      "cell_type": "code",
      "metadata": {
        "colab": {
          "base_uri": "https://localhost:8080/"
        },
        "id": "FKsCNCLSMW1s",
        "outputId": "ae2721d6-1540-49bb-aa3b-215753aaddce"
      },
      "source": [
        "# Method 1:-\n",
        "\n",
        "def cloning(lst1):\n",
        "  copy_lst = lst1\n",
        "  return copy_lst\n",
        "lst1 = [4,8,2,10,15,18]\n",
        "lst2 = cloning(lst1)\n",
        "print(\"List 1 :\",lst1)\n",
        "print(\"List 2 :\",cloning(lst1))"
      ],
      "execution_count": null,
      "outputs": [
        {
          "output_type": "stream",
          "name": "stdout",
          "text": [
            "List 1 : [4, 8, 2, 10, 15, 18]\n",
            "List 2 : [4, 8, 2, 10, 15, 18]\n"
          ]
        }
      ]
    },
    {
      "cell_type": "code",
      "metadata": {
        "colab": {
          "base_uri": "https://localhost:8080/"
        },
        "id": "lF_gqJaLNje_",
        "outputId": "7f57c652-668d-4034-bf12-c811d8554235"
      },
      "source": [
        "# Method 2:-Using extend() fn\n",
        "\n",
        "def copying(list1):\n",
        "  copy_list = []\n",
        "  copy_list.extend(list1)\n",
        "  return copy_list\n",
        "lst1 = [4,8,2,10,15,18]\n",
        "lst2 = cloning(lst1)\n",
        "print(\"List 1 :\",lst1)\n",
        "print(\"List 2 :\",cloning(lst1))"
      ],
      "execution_count": null,
      "outputs": [
        {
          "output_type": "stream",
          "name": "stdout",
          "text": [
            "List 1 : [4, 8, 2, 10, 15, 18]\n",
            "List 2 : [4, 8, 2, 10, 15, 18]\n"
          ]
        }
      ]
    },
    {
      "cell_type": "code",
      "metadata": {
        "colab": {
          "base_uri": "https://localhost:8080/"
        },
        "id": "l47YyC0bPPsd",
        "outputId": "76fcd82a-092a-4890-d61b-aeaaf1d1fdff"
      },
      "source": [
        "# Method 3:-Using append() fn\n",
        "\n",
        "def copying(list1):\n",
        "  copy_list = []\n",
        "  copy_list.append(list1)\n",
        "  return copy_list\n",
        "lst1 = [4,8,2,10,15,18]\n",
        "lst2 = cloning(lst1)\n",
        "print(\"List 1 :\",lst1)\n",
        "print(\"List 2 :\",cloning(lst1))"
      ],
      "execution_count": null,
      "outputs": [
        {
          "output_type": "stream",
          "name": "stdout",
          "text": [
            "List 1 : [4, 8, 2, 10, 15, 18]\n",
            "List 2 : [4, 8, 2, 10, 15, 18]\n"
          ]
        }
      ]
    },
    {
      "cell_type": "code",
      "metadata": {
        "colab": {
          "base_uri": "https://localhost:8080/"
        },
        "id": "fFmWiu9xPeuL",
        "outputId": "efe4bb9a-ceb6-4bef-fc01-d06ca6561e56"
      },
      "source": [
        "# Method 4:-Using append() fn\n",
        "\n",
        "def copying(list1):\n",
        "  copy_list = list1.copy()\n",
        "  return copy_list\n",
        "lst1 = [4,8,2,10,15,18]\n",
        "lst2 = cloning(lst1)\n",
        "print(\"List 1 :\",lst1)\n",
        "print(\"List 2 :\",cloning(lst1))"
      ],
      "execution_count": null,
      "outputs": [
        {
          "output_type": "stream",
          "name": "stdout",
          "text": [
            "List 1 : [4, 8, 2, 10, 15, 18]\n",
            "List 2 : [4, 8, 2, 10, 15, 18]\n"
          ]
        }
      ]
    },
    {
      "cell_type": "markdown",
      "metadata": {
        "id": "lGlb3KZUPQ0D"
      },
      "source": [
        "# **20. To remove empty tuples from a list**"
      ]
    },
    {
      "cell_type": "code",
      "metadata": {
        "colab": {
          "base_uri": "https://localhost:8080/"
        },
        "id": "c7OZVA24PxrV",
        "outputId": "cfe1fcc1-0328-4245-a56a-6303cb9c946c"
      },
      "source": [
        "# Method 1:-\n",
        "\n",
        "def remove(lst):\n",
        "  tuples = [ele for ele in lst if ele!=()]\n",
        "  return tuples\n",
        "lst = [(),('ram','15','8'),(),('laxman','sita'),('krishna','arjun','45'),(' ',' '),()]\n",
        "print(\"Before :\",lst)\n",
        "print(\"After :\",remove(lst))"
      ],
      "execution_count": null,
      "outputs": [
        {
          "output_type": "stream",
          "name": "stdout",
          "text": [
            "Before : [(), ('ram', '15', '8'), (), ('laxman', 'sita'), ('krishna', 'arjun', '45'), (' ', ' '), ()]\n",
            "After : [('ram', '15', '8'), ('laxman', 'sita'), ('krishna', 'arjun', '45'), (' ', ' ')]\n"
          ]
        }
      ]
    },
    {
      "cell_type": "code",
      "metadata": {
        "colab": {
          "base_uri": "https://localhost:8080/"
        },
        "id": "HNcnEV-6RMxn",
        "outputId": "eec61336-c0df-4e11-a8ea-15f84e27203b"
      },
      "source": [
        "# Method 2:-Using filter()\n",
        "\n",
        "def Remove(lst):\n",
        "  result = list(filter(None,lst))\n",
        "  return result\n",
        "lst = [(),('ram','15','8'),(),('laxman','sita'),('krishna','arjun','45'),(' ',' '),()]\n",
        "print(\"Before :\",lst)\n",
        "print(\"After :\",remove(lst))"
      ],
      "execution_count": null,
      "outputs": [
        {
          "output_type": "stream",
          "name": "stdout",
          "text": [
            "Before : [(), ('ram', '15', '8'), (), ('laxman', 'sita'), ('krishna', 'arjun', '45'), (' ', ' '), ()]\n",
            "After : [('ram', '15', '8'), ('laxman', 'sita'), ('krishna', 'arjun', '45'), (' ', ' ')]\n"
          ]
        }
      ]
    },
    {
      "cell_type": "markdown",
      "metadata": {
        "id": "yQHPhGiNRspU"
      },
      "source": [
        "# **21. Counting occurences of an element in a list**"
      ]
    },
    {
      "cell_type": "code",
      "metadata": {
        "colab": {
          "base_uri": "https://localhost:8080/"
        },
        "id": "xgOSWUnLRrhf",
        "outputId": "f2abbff0-522e-404e-9db0-d8e16e2d041c"
      },
      "source": [
        "# Method 1:-\n",
        "\n",
        "def Count(lst,num):\n",
        "  count = 0\n",
        "  for ele in lst:\n",
        "    if ele == num:\n",
        "      count += 1\n",
        "  return count\n",
        "lst = [8,6,8,10,8,20,8,6,10,10,6]\n",
        "num = int(input(\"Enter no. : \"))\n",
        "print(num,\"has occured\",Count(lst,num),\"times\")"
      ],
      "execution_count": null,
      "outputs": [
        {
          "output_type": "stream",
          "name": "stdout",
          "text": [
            "Enter no. : 10\n",
            "10 has occured 3 times\n"
          ]
        }
      ]
    },
    {
      "cell_type": "code",
      "metadata": {
        "colab": {
          "base_uri": "https://localhost:8080/"
        },
        "id": "ldvU_jXscgsR",
        "outputId": "2bab6098-31ca-447c-fa57-5ad6c95368c6"
      },
      "source": [
        "# Method 2:-Using count()\n",
        "\n",
        "def CountX(lst,num):\n",
        "  return lst.count(num)\n",
        "lst = [8,6,8,10,8,20,8,6,10,10,6]\n",
        "num = int(input(\"Enter no. : \"))\n",
        "print(num,\"has occured\",Count(lst,num),\"times\")"
      ],
      "execution_count": null,
      "outputs": [
        {
          "output_type": "stream",
          "name": "stdout",
          "text": [
            "Enter no. : 10\n",
            "10 has occured 3 times\n"
          ]
        }
      ]
    },
    {
      "cell_type": "markdown",
      "metadata": {
        "id": "EurftNjLeJAn"
      },
      "source": [
        "# **22. To print duplicates from a list**"
      ]
    },
    {
      "cell_type": "code",
      "metadata": {
        "colab": {
          "base_uri": "https://localhost:8080/"
        },
        "id": "ytI9OR-_eIgI",
        "outputId": "67b31246-8a7f-469d-8d09-6604cf47418b"
      },
      "source": [
        "# Method 1:-\n",
        "\n",
        "def Duplicate(lst):\n",
        "  size = len(lst)\n",
        "  duplicates = []\n",
        "  for i in range(size):\n",
        "    k = i+1\n",
        "    for j in range(k,size):\n",
        "      if lst[i] == lst[j] and lst[i] not in duplicates:\n",
        "        duplicates.append(lst[i])\n",
        "  return duplicates\n",
        "lst = [10,20,30,20,20,30,40,50,-20,60,60,-20,-20]\n",
        "print(lst)\n",
        "print(Duplicate(lst))"
      ],
      "execution_count": null,
      "outputs": [
        {
          "output_type": "stream",
          "name": "stdout",
          "text": [
            "[10, 20, 30, 20, 20, 30, 40, 50, -20, 60, 60, -20, -20]\n",
            "[20, 30, -20, 60]\n"
          ]
        }
      ]
    },
    {
      "cell_type": "code",
      "metadata": {
        "colab": {
          "base_uri": "https://localhost:8080/"
        },
        "id": "XVgNDoTLeOD3",
        "outputId": "2aeae184-7fb9-49dc-a1eb-f02a40d7ff49"
      },
      "source": [
        "# Method 2:-Using Counter() from collection module\n",
        "\n",
        "from collections import Counter\n",
        "lst = [10,20,30,20,20,30,40,50,-20,60,60,-20,-20]\n",
        "print(lst)\n",
        "d = Counter(lst)\n",
        "new_List = [item for item in d if d[item]>1]\n",
        "print(new_List)"
      ],
      "execution_count": null,
      "outputs": [
        {
          "output_type": "stream",
          "name": "stdout",
          "text": [
            "[10, 20, 30, 20, 20, 30, 40, 50, -20, 60, 60, -20, -20]\n",
            "[20, 30, -20, 60]\n"
          ]
        }
      ]
    },
    {
      "cell_type": "markdown",
      "metadata": {
        "id": "w6KUeG4UoNtV"
      },
      "source": [
        "# **23. To find the cummulative sum of a list**"
      ]
    },
    {
      "cell_type": "code",
      "metadata": {
        "colab": {
          "base_uri": "https://localhost:8080/"
        },
        "id": "pVoV1Q-6oMz7",
        "outputId": "4dcc9ac5-5d9b-4b0f-d803-38db0bffbb8c"
      },
      "source": [
        "lst = [10,20,30,40,50]\n",
        "print(lst)\n",
        "res = []\n",
        "sum = 0\n",
        "for i in lst:\n",
        "  sum += i \n",
        "  res.append(sum)\n",
        "print(res)"
      ],
      "execution_count": null,
      "outputs": [
        {
          "output_type": "stream",
          "name": "stdout",
          "text": [
            "[10, 20, 30, 40, 50]\n",
            "[10, 30, 60, 100, 150]\n"
          ]
        }
      ]
    },
    {
      "cell_type": "markdown",
      "metadata": {
        "id": "HZlFOJ4zprZz"
      },
      "source": [
        "# **24. Sum of number digit in a list**"
      ]
    },
    {
      "cell_type": "code",
      "metadata": {
        "colab": {
          "base_uri": "https://localhost:8080/"
        },
        "id": "1Um7wB5BpqhT",
        "outputId": "3bea8092-7aea-43f0-994f-2e3eda2e459c"
      },
      "source": [
        "# EX:- 17 => 1+7=8   45 => 4+5=9\n",
        "\n",
        "lst = [12,67,98,34]\n",
        "print(lst)\n",
        "res = []\n",
        "\n",
        "for ele in lst:\n",
        "  Sum = 0\n",
        "  for digit in str(ele):\n",
        "    Sum += int(digit)\n",
        "  res.append(Sum)\n",
        "print(res)"
      ],
      "execution_count": 11,
      "outputs": [
        {
          "output_type": "stream",
          "name": "stdout",
          "text": [
            "[12, 67, 98, 34]\n",
            "[3, 13, 17, 7]\n"
          ]
        }
      ]
    },
    {
      "cell_type": "markdown",
      "metadata": {
        "id": "rZMy-BB1E0-d"
      },
      "source": [
        "# **25. To break a list into chunks of size 'n'**"
      ]
    },
    {
      "cell_type": "code",
      "metadata": {
        "id": "9Pms0G1zrqvS",
        "colab": {
          "base_uri": "https://localhost:8080/"
        },
        "outputId": "0537bb94-0d51-4a64-9958-76b154435105"
      },
      "source": [
        "lst = [1,2,3,4,5,6,7,8,9,0]\n",
        "print(lst)\n",
        "n = int(input(\"Enter the size : \"))\n",
        "res = [lst[i:i+n] for i in range(0,len(lst),n)]\n",
        "print(res)"
      ],
      "execution_count": 32,
      "outputs": [
        {
          "output_type": "stream",
          "name": "stdout",
          "text": [
            "[1, 2, 3, 4, 5, 6, 7, 8, 9, 0]\n",
            "Enter the size : 3\n",
            "[[1, 2, 3], [4, 5, 6], [7, 8, 9], [0]]\n"
          ]
        }
      ]
    }
  ]
}